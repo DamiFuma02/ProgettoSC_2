{
 "cells": [
  {
   "cell_type": "code",
   "execution_count": 72,
   "metadata": {
    "id": "MnT12lOYApYC"
   },
   "outputs": [],
   "source": [
    "import numpy as np\n",
    "import pandas as pd\n",
    "import random\n",
    "from datetime import datetime\n",
    "import matplotlib.pyplot as plt"
   ]
  },
  {
   "cell_type": "markdown",
   "metadata": {},
   "source": [
    "# Analisi dei dati ottenuti\r\n",
    "Una volta concluso il vostro task e dopo aver lavorato per gli altri Requester, analizzate i\r\n",
    "risultati ottenuti> \n",
    "a. Scaricate i dati prodotti dai lavoratori utilizzando lo script di download descritto a\r",
    "zione\n",
    "le\n",
    "\n",
    "1. Dati workers_acl.csv sono i dati presenti su dynamodb tabella ACL\n",
    "2. worker_answers.csv sono le singole risposte alle review per ciascun worker\n",
    "3. workers_dimensions_selection.csv confidence per ogni hit\n",
    "4. workers_questionnaire.csv risposte alle prime due domandione"
   ]
  },
  {
   "cell_type": "markdown",
   "metadata": {},
   "source": [
    "## WORKERS_ACL"
   ]
  },
  {
   "cell_type": "code",
   "execution_count": 76,
   "metadata": {},
   "outputs": [
    {
     "name": "stdout",
     "output_type": "stream",
     "text": [
      "Current Number of Responses: 13\n",
      "<class 'pandas.core.frame.DataFrame'>\n",
      "RangeIndex: 13 entries, 0 to 12\n",
      "Data columns (total 5 columns):\n",
      " #   Column           Non-Null Count  Dtype \n",
      "---  ------           --------------  ----- \n",
      " 0   worker_id        13 non-null     object\n",
      " 1   unit_id          13 non-null     object\n",
      " 2   time_arrival     13 non-null     object\n",
      " 3   time_submit      13 non-null     object\n",
      " 4   time_completion  13 non-null     object\n",
      "dtypes: object(5)\n",
      "memory usage: 652.0+ bytes\n"
     ]
    }
   ],
   "source": [
    "workers_acl = pd.read_csv(\"result/ProgettoSocial/DataFrame/workers_acl.csv\")\n",
    "print(f\"Current Number of Responses: {workers_acl.shape[0]}\")\n",
    "# print(workers_acl.info())\n",
    "interesting_columns = ['worker_id', 'unit_id','time_arrival','time_submit','time_completion']\n",
    "workers_acl = workers_acl[interesting_columns]\n",
    "workers_acl.info()"
   ]
  },
  {
   "cell_type": "markdown",
   "metadata": {},
   "source": [
    "> Conversione data to timestamp() in numero di secondi da unix epoch"
   ]
  },
  {
   "cell_type": "code",
   "execution_count": 77,
   "metadata": {},
   "outputs": [],
   "source": [
    "workers_acl['time_arrival'] = [datetime.strptime(val, \"%a, %d %b %Y %H:%M:%S %Z\").timestamp() for val in workers_acl['time_arrival']]\n",
    "workers_acl['time_submit'] = [datetime.strptime(val, \"%a, %d %b %Y %H:%M:%S %Z\").timestamp() for val in workers_acl['time_submit']]\n",
    "workers_acl['time_completion'] = [datetime.strptime(val, \"%a, %d %b %Y %H:%M:%S %Z\").timestamp() for val in workers_acl['time_completion']]"
   ]
  },
  {
   "cell_type": "markdown",
   "metadata": {},
   "source": [
    "1. Distribuzione differenza idle_time = time_submit - time_arrival\n",
    "2. Distribuzione differenza working_time = time_completion - time_submit\n"
   ]
  },
  {
   "cell_type": "code",
   "execution_count": 78,
   "metadata": {},
   "outputs": [],
   "source": [
    "workers_acl['idle_time'] = workers_acl['time_submit'] - workers_acl['time_arrival']\n",
    "workers_acl['working_time'] = workers_acl['time_completion'] - workers_acl['time_submit']"
   ]
  },
  {
   "cell_type": "code",
   "execution_count": 80,
   "metadata": {},
   "outputs": [
    {
     "data": {
      "text/html": [
       "<div>\n",
       "<style scoped>\n",
       "    .dataframe tbody tr th:only-of-type {\n",
       "        vertical-align: middle;\n",
       "    }\n",
       "\n",
       "    .dataframe tbody tr th {\n",
       "        vertical-align: top;\n",
       "    }\n",
       "\n",
       "    .dataframe thead th {\n",
       "        text-align: right;\n",
       "    }\n",
       "</style>\n",
       "<table border=\"1\" class=\"dataframe\">\n",
       "  <thead>\n",
       "    <tr style=\"text-align: right;\">\n",
       "      <th></th>\n",
       "      <th>idle_time</th>\n",
       "      <th>working_time</th>\n",
       "    </tr>\n",
       "  </thead>\n",
       "  <tbody>\n",
       "    <tr>\n",
       "      <th>count</th>\n",
       "      <td>13.000000</td>\n",
       "      <td>13.000000</td>\n",
       "    </tr>\n",
       "    <tr>\n",
       "      <th>mean</th>\n",
       "      <td>4.076923</td>\n",
       "      <td>1737.846154</td>\n",
       "    </tr>\n",
       "    <tr>\n",
       "      <th>std</th>\n",
       "      <td>1.846688</td>\n",
       "      <td>1400.261097</td>\n",
       "    </tr>\n",
       "    <tr>\n",
       "      <th>min</th>\n",
       "      <td>2.000000</td>\n",
       "      <td>464.000000</td>\n",
       "    </tr>\n",
       "    <tr>\n",
       "      <th>25%</th>\n",
       "      <td>3.000000</td>\n",
       "      <td>738.000000</td>\n",
       "    </tr>\n",
       "    <tr>\n",
       "      <th>50%</th>\n",
       "      <td>3.000000</td>\n",
       "      <td>1408.000000</td>\n",
       "    </tr>\n",
       "    <tr>\n",
       "      <th>75%</th>\n",
       "      <td>5.000000</td>\n",
       "      <td>2011.000000</td>\n",
       "    </tr>\n",
       "    <tr>\n",
       "      <th>max</th>\n",
       "      <td>8.000000</td>\n",
       "      <td>5666.000000</td>\n",
       "    </tr>\n",
       "  </tbody>\n",
       "</table>\n",
       "</div>"
      ],
      "text/plain": [
       "       idle_time  working_time\n",
       "count  13.000000     13.000000\n",
       "mean    4.076923   1737.846154\n",
       "std     1.846688   1400.261097\n",
       "min     2.000000    464.000000\n",
       "25%     3.000000    738.000000\n",
       "50%     3.000000   1408.000000\n",
       "75%     5.000000   2011.000000\n",
       "max     8.000000   5666.000000"
      ]
     },
     "execution_count": 80,
     "metadata": {},
     "output_type": "execute_result"
    }
   ],
   "source": [
    "workers_acl[['idle_time','working_time']].describe()"
   ]
  },
  {
   "cell_type": "code",
   "execution_count": 79,
   "metadata": {},
   "outputs": [
    {
     "data": {
      "image/png": "[encoded data removed]",
      "text/plain": [
       "<Figure size 640x480 with 2 Axes>"
      ]
     },
     "metadata": {},
     "output_type": "display_data"
    }
   ],
   "source": [
    "fig, axes = plt.subplots(ncols=2)\n",
    "# Iterate over each column and create a boxplot\n",
    "for i, column in enumerate(['idle_time','working_time']):\n",
    "    axes[i].boxplot(workers_acl[column])\n",
    "    axes[i].set_title(column)\n",
    "\n",
    "# Adjust the layout and display the plot\n",
    "plt.tight_layout()\n",
    "plt.show()"
   ]
  },
  {
   "cell_type": "markdown",
   "metadata": {},
   "source": [
    "## workers_answers"
   ]
  },
  {
   "cell_type": "code",
   "execution_count": null,
   "metadata": {},
   "outputs": [],
   "source": [
    "workers_answers = pd.read_csv(\"result/ProgettoSocial/DataFrame/workers_answers.csv\")\n",
    "workers_answers.info()\n",
    "# print(workers_answers.groupby('unit_id').count())\n",
    "# la unit_9 contiene 9 righe\n",
    "# ordinare per tempo decrescente per document_index per gestire gli eventuali passi indietro\n",
    "# mantenere worker_id, unit_id, action, document_index, (label,value) per ogni dimensione"
   ]
  },
  {
   "cell_type": "code",
   "execution_count": null,
   "metadata": {},
   "outputs": [],
   "source": [
    "# boxplot  per ogni unita per valutare gli outlier"
   ]
  },
  {
   "cell_type": "code",
   "execution_count": 5,
   "metadata": {},
   "outputs": [
    {
     "name": "stdout",
     "output_type": "stream",
     "text": [
      "<class 'pandas.core.frame.DataFrame'>\n",
      "RangeIndex: 119 entries, 0 to 118\n",
      "Data columns (total 20 columns):\n",
      " #   Column                      Non-Null Count  Dtype  \n",
      "---  ------                      --------------  -----  \n",
      " 0   worker_id                   119 non-null    object \n",
      " 1   paid                        119 non-null    bool   \n",
      " 2   task_name                   119 non-null    object \n",
      " 3   batch_name                  119 non-null    object \n",
      " 4   unit_id                     119 non-null    object \n",
      " 5   try_last                    119 non-null    int64  \n",
      " 6   try_current                 119 non-null    int64  \n",
      " 7   dimension_index             119 non-null    int64  \n",
      " 8   dimension_name              119 non-null    object \n",
      " 9   timestamp_start             119 non-null    float64\n",
      " 10  timestamp_start_parsed      119 non-null    object \n",
      " 11  selection_index             119 non-null    int64  \n",
      " 12  selection_value             119 non-null    int64  \n",
      " 13  selection_timestamp         119 non-null    float64\n",
      " 14  selection_timestamp_parsed  119 non-null    object \n",
      " 15  selection_time_elapsed      119 non-null    float64\n",
      " 16  timestamp_end               119 non-null    float64\n",
      " 17  timestamp_end_parsed        119 non-null    object \n",
      " 18  document_index              119 non-null    int64  \n",
      " 19  document_id                 119 non-null    object \n",
      "dtypes: bool(1), float64(4), int64(6), object(9)\n",
      "memory usage: 17.9+ KB\n"
     ]
    }
   ],
   "source": [
    "workers_dimensions_selection = pd.read_csv(\"result/ProgettoSocial/DataFrame/workers_dimensions_selection.csv\")\n",
    "workers_dimensions_selection.info()\n",
    "# media della confidence_value per ogni review\n",
    "# worker_id, unit_id, , selection_value in base all'ultimo selection_index"
   ]
  },
  {
   "cell_type": "code",
   "execution_count": 7,
   "metadata": {},
   "outputs": [
    {
     "name": "stdout",
     "output_type": "stream",
     "text": [
      "<class 'pandas.core.frame.DataFrame'>\n",
      "RangeIndex: 15 entries, 0 to 14\n",
      "Data columns (total 8 columns):\n",
      " #   Column         Non-Null Count  Dtype \n",
      "---  ------         --------------  ----- \n",
      " 0   document_id    15 non-null     object\n",
      " 1   text           15 non-null     object\n",
      " 2   product_title  15 non-null     object\n",
      " 3   product_brand  15 non-null     object\n",
      " 4   time           15 non-null     object\n",
      " 5   task_type      15 non-null     object\n",
      " 6   unit_ids       15 non-null     object\n",
      " 7   worker_ids     15 non-null     object\n",
      "dtypes: object(8)\n",
      "memory usage: 1.1+ KB\n"
     ]
    }
   ],
   "source": [
    "# worker_documents.csv \n",
    "# mantenere worker_ids (lista dei worker che hanno lavorato), unit_ids (lista delle unità in cui è presente la review)\n",
    "# product_id = Review_ID \n",
    "workers_documents = pd.read_csv(\"result/ProgettoSocial/DataFrame/workers_documents.csv\")\n",
    "workers_documents.info()"
   ]
  },
  {
   "cell_type": "code",
   "execution_count": 11,
   "metadata": {},
   "outputs": [
    {
     "data": {
      "text/plain": [
       "5     3.0\n",
       "11    3.0\n",
       "17    3.0\n",
       "23    3.0\n",
       "29    3.0\n",
       "35    3.0\n",
       "41    3.0\n",
       "47    1.0\n",
       "53    1.0\n",
       "59    3.0\n",
       "65    3.0\n",
       "71    3.0\n",
       "77    3.0\n",
       "Name: question_answer_value, dtype: float64"
      ]
     },
     "execution_count": 11,
     "metadata": {},
     "output_type": "execute_result"
    }
   ],
   "source": [
    "workers_questionnaire = pd.read_csv(\"result/ProgettoSocial/DataFrame/workers_questionnaire.csv\")\n",
    "#workers_questionnaire.info()\n",
    "# categorizzare gli utenti in base a genere eta ecc\n",
    "# question_answer_text contiene il valore selezionato dal worker\n",
    "workers_questionnaire[workers_questionnaire['questionnaire_type'] == 'crt']['question_answer_value']"
   ]
  },
  {
   "cell_type": "markdown",
   "metadata": {},
   "source": [
    "b. Calcolate le frequenze relative delle risposte date dai lavoratori al questionario  \n",
    "> File workers_questionnaire.csv\n",
    "\n",
    "c. Calcolate il percent agreement tra worker per i valori forniti rispetto a ciascuna\n",
    "dimensione categoriale\n",
    "d. Calcolate la confidence media espressa dai worker nel valutare ciascuna\n",
    "recensione\n",
    "e. Calcolate il tempo medio impiegato dai worker per valutare ciascuna recensione\n",
    "f. Descrivete brevemente le considerazioni tratte dall’analisi dei dati prodotti dai worker\n",
    "○ Quali sono le caratteristiche demografiche e culturali dei lavoratori che potete\n",
    "dedurre dal questionario?\n",
    "○ Vi è accordo tra ciascun lavoratore? Per quali dimensioni vi è più accordo?\n",
    "Per quali meno?\n",
    "○ …\n",
    "g. Aggiungete eventuali altre analisi che ritenete opportune ed utili con i dati che avete\n",
    "a disposizione\n",
    "a disposizione"
   ]
  }
 ],
 "metadata": {
  "colab": {
   "provenance": []
  },
  "kernelspec": {
   "display_name": "Python 3 (ipykernel)",
   "language": "python",
   "name": "python3"
  },
  "language_info": {
   "codemirror_mode": {
    "name": "ipython",
    "version": 3
   },
   "file_extension": ".py",
   "mimetype": "text/x-python",
   "name": "python",
   "nbconvert_exporter": "python",
   "pygments_lexer": "ipython3",
   "version": "3.12.1"
  }
 },
 "nbformat": 4,
 "nbformat_minor": 4
}
