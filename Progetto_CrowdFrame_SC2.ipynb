{
 "cells": [
  {
   "cell_type": "code",
   "execution_count": 1,
   "metadata": {
    "id": "MnT12lOYApYC"
   },
   "outputs": [],
   "source": [
    "import numpy as np\n",
    "import pandas as pd\n",
    "import random"
   ]
  },
  {
   "cell_type": "code",
   "execution_count": 3,
   "metadata": {
    "scrolled": true
   },
   "outputs": [
    {
     "name": "stdout",
     "output_type": "stream",
     "text": [
      "(1773614, 11)\n"
     ]
    }
   ],
   "source": [
    "# import dati grezzi\n",
    "dati = pd.read_csv(\"Dataset/Reviews_With_Metadata.csv\", low_memory=False)\n",
    "print(dati.shape)"
   ]
  },
  {
   "cell_type": "code",
   "execution_count": 4,
   "metadata": {
    "scrolled": true
   },
   "outputs": [
    {
     "data": {
      "text/plain": [
       "(1773588, 11)"
      ]
     },
     "execution_count": 4,
     "metadata": {},
     "output_type": "execute_result"
    }
   ],
   "source": [
    "# rimuovere eventuali elementi NULL in product_title e product_brand\n",
    "dati = dati.dropna(subset=[\"product_title\",\"product_brand\"])\n",
    "dati.shape"
   ]
  },
  {
   "cell_type": "code",
   "execution_count": 4,
   "metadata": {},
   "outputs": [
    {
     "data": {
      "text/html": [
       "<div>\n",
       "<style scoped>\n",
       "    .dataframe tbody tr th:only-of-type {\n",
       "        vertical-align: middle;\n",
       "    }\n",
       "\n",
       "    .dataframe tbody tr th {\n",
       "        vertical-align: top;\n",
       "    }\n",
       "\n",
       "    .dataframe thead th {\n",
       "        text-align: right;\n",
       "    }\n",
       "</style>\n",
       "<table border=\"1\" class=\"dataframe\">\n",
       "  <thead>\n",
       "    <tr style=\"text-align: right;\">\n",
       "      <th></th>\n",
       "      <th>product_asin</th>\n",
       "      <th>reviewer_id</th>\n",
       "      <th>reviewer_name</th>\n",
       "      <th>review_score</th>\n",
       "      <th>review_time</th>\n",
       "      <th>review_time_unix</th>\n",
       "      <th>review_summary</th>\n",
       "      <th>review_upvote</th>\n",
       "      <th>review_text</th>\n",
       "      <th>product_title</th>\n",
       "      <th>product_brand</th>\n",
       "    </tr>\n",
       "  </thead>\n",
       "  <tbody>\n",
       "    <tr>\n",
       "      <th>0</th>\n",
       "      <td>0176496920</td>\n",
       "      <td>A3FANY5GOT5X0W</td>\n",
       "      <td>Kelly Keyser</td>\n",
       "      <td>5</td>\n",
       "      <td>2013-01-23 00:00:00</td>\n",
       "      <td>1358899200</td>\n",
       "      <td>Just as described!</td>\n",
       "      <td>NaN</td>\n",
       "      <td>Arrived on time, in mint condition, great!  I ...</td>\n",
       "      <td>Turning Technologies Response Card (RCRF-03)</td>\n",
       "      <td>Turning Technologies, LLC</td>\n",
       "    </tr>\n",
       "    <tr>\n",
       "      <th>1</th>\n",
       "      <td>0176496920</td>\n",
       "      <td>AT6HRPPYOPHMB</td>\n",
       "      <td>Michael C</td>\n",
       "      <td>5</td>\n",
       "      <td>2012-11-05 00:00:00</td>\n",
       "      <td>1352073600</td>\n",
       "      <td>Great device</td>\n",
       "      <td>NaN</td>\n",
       "      <td>This device was hard to find for my daughter's...</td>\n",
       "      <td>Turning Technologies Response Card (RCRF-03)</td>\n",
       "      <td>Turning Technologies, LLC</td>\n",
       "    </tr>\n",
       "    <tr>\n",
       "      <th>2</th>\n",
       "      <td>0176496920</td>\n",
       "      <td>A4IX7B38LIN1E</td>\n",
       "      <td>BH</td>\n",
       "      <td>4</td>\n",
       "      <td>2012-10-17 00:00:00</td>\n",
       "      <td>1350432000</td>\n",
       "      <td>Pretty Good</td>\n",
       "      <td>NaN</td>\n",
       "      <td>Just a clicker nothing special. Was hoping it ...</td>\n",
       "      <td>Turning Technologies Response Card (RCRF-03)</td>\n",
       "      <td>Turning Technologies, LLC</td>\n",
       "    </tr>\n",
       "    <tr>\n",
       "      <th>3</th>\n",
       "      <td>0176496920</td>\n",
       "      <td>A12Q4LR8N17AOZ</td>\n",
       "      <td>Waterfall3500</td>\n",
       "      <td>5</td>\n",
       "      <td>2017-03-29 00:00:00</td>\n",
       "      <td>1490745600</td>\n",
       "      <td>Thank you for the great product. Works. A++ Us...</td>\n",
       "      <td>NaN</td>\n",
       "      <td>Great response card. Slow shipping but it work...</td>\n",
       "      <td>Turning Technologies Response Card (RCRF-03)</td>\n",
       "      <td>Turning Technologies, LLC</td>\n",
       "    </tr>\n",
       "    <tr>\n",
       "      <th>4</th>\n",
       "      <td>0176496920</td>\n",
       "      <td>A1GJXZZPOZ3OD9</td>\n",
       "      <td>Amazon Customer</td>\n",
       "      <td>1</td>\n",
       "      <td>2017-03-21 00:00:00</td>\n",
       "      <td>1490054400</td>\n",
       "      <td>One Star</td>\n",
       "      <td>NaN</td>\n",
       "      <td>It only lasted for 3 days before it stopped wo...</td>\n",
       "      <td>Turning Technologies Response Card (RCRF-03)</td>\n",
       "      <td>Turning Technologies, LLC</td>\n",
       "    </tr>\n",
       "  </tbody>\n",
       "</table>\n",
       "</div>"
      ],
      "text/plain": [
       "  product_asin     reviewer_id    reviewer_name  review_score  \\\n",
       "0   0176496920  A3FANY5GOT5X0W     Kelly Keyser             5   \n",
       "1   0176496920   AT6HRPPYOPHMB        Michael C             5   \n",
       "2   0176496920   A4IX7B38LIN1E               BH             4   \n",
       "3   0176496920  A12Q4LR8N17AOZ    Waterfall3500             5   \n",
       "4   0176496920  A1GJXZZPOZ3OD9  Amazon Customer             1   \n",
       "\n",
       "           review_time  review_time_unix  \\\n",
       "0  2013-01-23 00:00:00        1358899200   \n",
       "1  2012-11-05 00:00:00        1352073600   \n",
       "2  2012-10-17 00:00:00        1350432000   \n",
       "3  2017-03-29 00:00:00        1490745600   \n",
       "4  2017-03-21 00:00:00        1490054400   \n",
       "\n",
       "                                      review_summary review_upvote  \\\n",
       "0                                 Just as described!           NaN   \n",
       "1                                       Great device           NaN   \n",
       "2                                        Pretty Good           NaN   \n",
       "3  Thank you for the great product. Works. A++ Us...           NaN   \n",
       "4                                           One Star           NaN   \n",
       "\n",
       "                                         review_text  \\\n",
       "0  Arrived on time, in mint condition, great!  I ...   \n",
       "1  This device was hard to find for my daughter's...   \n",
       "2  Just a clicker nothing special. Was hoping it ...   \n",
       "3  Great response card. Slow shipping but it work...   \n",
       "4  It only lasted for 3 days before it stopped wo...   \n",
       "\n",
       "                                  product_title              product_brand  \n",
       "0  Turning Technologies Response Card (RCRF-03)  Turning Technologies, LLC  \n",
       "1  Turning Technologies Response Card (RCRF-03)  Turning Technologies, LLC  \n",
       "2  Turning Technologies Response Card (RCRF-03)  Turning Technologies, LLC  \n",
       "3  Turning Technologies Response Card (RCRF-03)  Turning Technologies, LLC  \n",
       "4  Turning Technologies Response Card (RCRF-03)  Turning Technologies, LLC  "
      ]
     },
     "execution_count": 4,
     "metadata": {},
     "output_type": "execute_result"
    }
   ],
   "source": [
    "dati.head()"
   ]
  },
  {
   "cell_type": "code",
   "execution_count": 5,
   "metadata": {},
   "outputs": [
    {
     "data": {
      "text/plain": [
       "(267852, 11)"
      ]
     },
     "execution_count": 5,
     "metadata": {},
     "output_type": "execute_result"
    }
   ],
   "source": [
    "# filter by review_upvote >= 1 and remove comma in numbers\n",
    "dati = dati.dropna(subset=\"review_upvote\")\n",
    "dati['review_upvote'] = dati['review_upvote'].astype(str)\n",
    "dati.shape"
   ]
  },
  {
   "cell_type": "code",
   "execution_count": 6,
   "metadata": {},
   "outputs": [],
   "source": [
    "def remove_comma(text):\n",
    "    return text.replace(',','')\n",
    "\n",
    "dati['review_upvote'] = list(map(remove_comma,list(dati['review_upvote'])))\n",
    "dati['review_upvote'] = dati['review_upvote'].astype(float)"
   ]
  },
  {
   "cell_type": "code",
   "execution_count": 7,
   "metadata": {},
   "outputs": [
    {
     "data": {
      "text/html": [
       "<div>\n",
       "<style scoped>\n",
       "    .dataframe tbody tr th:only-of-type {\n",
       "        vertical-align: middle;\n",
       "    }\n",
       "\n",
       "    .dataframe tbody tr th {\n",
       "        vertical-align: top;\n",
       "    }\n",
       "\n",
       "    .dataframe thead th {\n",
       "        text-align: right;\n",
       "    }\n",
       "</style>\n",
       "<table border=\"1\" class=\"dataframe\">\n",
       "  <thead>\n",
       "    <tr style=\"text-align: right;\">\n",
       "      <th></th>\n",
       "      <th>product_asin</th>\n",
       "      <th>reviewer_id</th>\n",
       "      <th>reviewer_name</th>\n",
       "      <th>review_score</th>\n",
       "      <th>review_time</th>\n",
       "      <th>review_time_unix</th>\n",
       "      <th>review_summary</th>\n",
       "      <th>review_upvote</th>\n",
       "      <th>review_text</th>\n",
       "      <th>product_title</th>\n",
       "      <th>product_brand</th>\n",
       "    </tr>\n",
       "  </thead>\n",
       "  <tbody>\n",
       "    <tr>\n",
       "      <th>10</th>\n",
       "      <td>0176496920</td>\n",
       "      <td>A3CQXY7BIMJEAK</td>\n",
       "      <td>Amazon Customer</td>\n",
       "      <td>1</td>\n",
       "      <td>2017-01-22 00:00:00</td>\n",
       "      <td>1485043200</td>\n",
       "      <td>Product ok, business models s**ks</td>\n",
       "      <td>2</td>\n",
       "      <td>The product is ok. Works fine, with enough fun...</td>\n",
       "      <td>Turning Technologies Response Card (RCRF-03)</td>\n",
       "      <td>Turning Technologies, LLC</td>\n",
       "    </tr>\n",
       "    <tr>\n",
       "      <th>12</th>\n",
       "      <td>0176496920</td>\n",
       "      <td>A10LKHY0O6OBLB</td>\n",
       "      <td>Joseph Doye</td>\n",
       "      <td>2</td>\n",
       "      <td>2017-01-10 00:00:00</td>\n",
       "      <td>1484006400</td>\n",
       "      <td>Make sure you don't need a license for the sof...</td>\n",
       "      <td>5</td>\n",
       "      <td>I bought one of these used for my course. Seem...</td>\n",
       "      <td>Turning Technologies Response Card (RCRF-03)</td>\n",
       "      <td>Turning Technologies, LLC</td>\n",
       "    </tr>\n",
       "    <tr>\n",
       "      <th>23</th>\n",
       "      <td>0176496920</td>\n",
       "      <td>ADFGHSXYA6CAI</td>\n",
       "      <td>Amazon Customer</td>\n",
       "      <td>3</td>\n",
       "      <td>2016-09-06 00:00:00</td>\n",
       "      <td>1473120000</td>\n",
       "      <td>Works well, but stick with the app if you can</td>\n",
       "      <td>9</td>\n",
       "      <td>The device came fully charged, I would recomme...</td>\n",
       "      <td>Turning Technologies Response Card (RCRF-03)</td>\n",
       "      <td>Turning Technologies, LLC</td>\n",
       "    </tr>\n",
       "    <tr>\n",
       "      <th>27</th>\n",
       "      <td>0176496920</td>\n",
       "      <td>A244VCNZM968SE</td>\n",
       "      <td>Betty Rain</td>\n",
       "      <td>5</td>\n",
       "      <td>2016-03-06 00:00:00</td>\n",
       "      <td>1457222400</td>\n",
       "      <td>Reliable</td>\n",
       "      <td>3</td>\n",
       "      <td>This worked perfectly in every lecture that I ...</td>\n",
       "      <td>Turning Technologies Response Card (RCRF-03)</td>\n",
       "      <td>Turning Technologies, LLC</td>\n",
       "    </tr>\n",
       "    <tr>\n",
       "      <th>29</th>\n",
       "      <td>0176496920</td>\n",
       "      <td>A2DE2X4ZHTLAEW</td>\n",
       "      <td>Benson Boy</td>\n",
       "      <td>1</td>\n",
       "      <td>2016-01-24 00:00:00</td>\n",
       "      <td>1453593600</td>\n",
       "      <td>just say no</td>\n",
       "      <td>2</td>\n",
       "      <td>don't worry it works, if you buy a subscriptio...</td>\n",
       "      <td>Turning Technologies Response Card (RCRF-03)</td>\n",
       "      <td>Turning Technologies, LLC</td>\n",
       "    </tr>\n",
       "  </tbody>\n",
       "</table>\n",
       "</div>"
      ],
      "text/plain": [
       "   product_asin     reviewer_id    reviewer_name  review_score  \\\n",
       "10   0176496920  A3CQXY7BIMJEAK  Amazon Customer             1   \n",
       "12   0176496920  A10LKHY0O6OBLB      Joseph Doye             2   \n",
       "23   0176496920   ADFGHSXYA6CAI  Amazon Customer             3   \n",
       "27   0176496920  A244VCNZM968SE       Betty Rain             5   \n",
       "29   0176496920  A2DE2X4ZHTLAEW       Benson Boy             1   \n",
       "\n",
       "            review_time  review_time_unix  \\\n",
       "10  2017-01-22 00:00:00        1485043200   \n",
       "12  2017-01-10 00:00:00        1484006400   \n",
       "23  2016-09-06 00:00:00        1473120000   \n",
       "27  2016-03-06 00:00:00        1457222400   \n",
       "29  2016-01-24 00:00:00        1453593600   \n",
       "\n",
       "                                       review_summary review_upvote  \\\n",
       "10                  Product ok, business models s**ks             2   \n",
       "12  Make sure you don't need a license for the sof...             5   \n",
       "23      Works well, but stick with the app if you can             9   \n",
       "27                                           Reliable             3   \n",
       "29                                        just say no             2   \n",
       "\n",
       "                                          review_text  \\\n",
       "10  The product is ok. Works fine, with enough fun...   \n",
       "12  I bought one of these used for my course. Seem...   \n",
       "23  The device came fully charged, I would recomme...   \n",
       "27  This worked perfectly in every lecture that I ...   \n",
       "29  don't worry it works, if you buy a subscriptio...   \n",
       "\n",
       "                                   product_title              product_brand  \n",
       "10  Turning Technologies Response Card (RCRF-03)  Turning Technologies, LLC  \n",
       "12  Turning Technologies Response Card (RCRF-03)  Turning Technologies, LLC  \n",
       "23  Turning Technologies Response Card (RCRF-03)  Turning Technologies, LLC  \n",
       "27  Turning Technologies Response Card (RCRF-03)  Turning Technologies, LLC  \n",
       "29  Turning Technologies Response Card (RCRF-03)  Turning Technologies, LLC  "
      ]
     },
     "execution_count": 7,
     "metadata": {},
     "output_type": "execute_result"
    }
   ],
   "source": [
    "dati.head()"
   ]
  },
  {
   "cell_type": "code",
   "execution_count": 8,
   "metadata": {},
   "outputs": [
    {
     "name": "stdout",
     "output_type": "stream",
     "text": [
      "Pair_A3CQXY7BIMJEAK-0176496920\n"
     ]
    }
   ],
   "source": [
    "# aggiungere la colonna id_univoco per ogni recensione\n",
    "# Pair_{reviewer_id}-{product_asin}\n",
    "arr = [\"Pair_\"+dati.iloc[i]['reviewer_id']+\"-\"+dati.iloc[i]['product_asin'] for i in range(dati.shape[0])]\n",
    "print(arr[0])\n",
    "dati['Review_ID'] = arr"
   ]
  },
  {
   "cell_type": "code",
   "execution_count": 10,
   "metadata": {},
   "outputs": [
    {
     "name": "stdout",
     "output_type": "stream",
     "text": [
      "(199427, 12)\n"
     ]
    },
    {
     "data": {
      "text/html": [
       "<div>\n",
       "<style scoped>\n",
       "    .dataframe tbody tr th:only-of-type {\n",
       "        vertical-align: middle;\n",
       "    }\n",
       "\n",
       "    .dataframe tbody tr th {\n",
       "        vertical-align: top;\n",
       "    }\n",
       "\n",
       "    .dataframe thead th {\n",
       "        text-align: right;\n",
       "    }\n",
       "</style>\n",
       "<table border=\"1\" class=\"dataframe\">\n",
       "  <thead>\n",
       "    <tr style=\"text-align: right;\">\n",
       "      <th></th>\n",
       "      <th>product_asin</th>\n",
       "      <th>reviewer_id</th>\n",
       "      <th>reviewer_name</th>\n",
       "      <th>review_score</th>\n",
       "      <th>review_time</th>\n",
       "      <th>review_time_unix</th>\n",
       "      <th>review_summary</th>\n",
       "      <th>review_upvote</th>\n",
       "      <th>review_text</th>\n",
       "      <th>product_title</th>\n",
       "      <th>product_brand</th>\n",
       "      <th>Review_ID</th>\n",
       "    </tr>\n",
       "  </thead>\n",
       "  <tbody>\n",
       "    <tr>\n",
       "      <th>10</th>\n",
       "      <td>0176496920</td>\n",
       "      <td>A3CQXY7BIMJEAK</td>\n",
       "      <td>Amazon Customer</td>\n",
       "      <td>1</td>\n",
       "      <td>2017-01-22 00:00:00</td>\n",
       "      <td>1485043200</td>\n",
       "      <td>Product ok, business models s**ks</td>\n",
       "      <td>2</td>\n",
       "      <td>The product is ok. Works fine, with enough fun...</td>\n",
       "      <td>Turning Technologies Response Card (RCRF-03)</td>\n",
       "      <td>Turning Technologies, LLC</td>\n",
       "      <td>Pair_A3CQXY7BIMJEAK-0176496920</td>\n",
       "    </tr>\n",
       "    <tr>\n",
       "      <th>12</th>\n",
       "      <td>0176496920</td>\n",
       "      <td>A10LKHY0O6OBLB</td>\n",
       "      <td>Joseph Doye</td>\n",
       "      <td>2</td>\n",
       "      <td>2017-01-10 00:00:00</td>\n",
       "      <td>1484006400</td>\n",
       "      <td>Make sure you don't need a license for the sof...</td>\n",
       "      <td>5</td>\n",
       "      <td>I bought one of these used for my course. Seem...</td>\n",
       "      <td>Turning Technologies Response Card (RCRF-03)</td>\n",
       "      <td>Turning Technologies, LLC</td>\n",
       "      <td>Pair_A10LKHY0O6OBLB-0176496920</td>\n",
       "    </tr>\n",
       "    <tr>\n",
       "      <th>23</th>\n",
       "      <td>0176496920</td>\n",
       "      <td>ADFGHSXYA6CAI</td>\n",
       "      <td>Amazon Customer</td>\n",
       "      <td>3</td>\n",
       "      <td>2016-09-06 00:00:00</td>\n",
       "      <td>1473120000</td>\n",
       "      <td>Works well, but stick with the app if you can</td>\n",
       "      <td>9</td>\n",
       "      <td>The device came fully charged, I would recomme...</td>\n",
       "      <td>Turning Technologies Response Card (RCRF-03)</td>\n",
       "      <td>Turning Technologies, LLC</td>\n",
       "      <td>Pair_ADFGHSXYA6CAI-0176496920</td>\n",
       "    </tr>\n",
       "    <tr>\n",
       "      <th>27</th>\n",
       "      <td>0176496920</td>\n",
       "      <td>A244VCNZM968SE</td>\n",
       "      <td>Betty Rain</td>\n",
       "      <td>5</td>\n",
       "      <td>2016-03-06 00:00:00</td>\n",
       "      <td>1457222400</td>\n",
       "      <td>Reliable</td>\n",
       "      <td>3</td>\n",
       "      <td>This worked perfectly in every lecture that I ...</td>\n",
       "      <td>Turning Technologies Response Card (RCRF-03)</td>\n",
       "      <td>Turning Technologies, LLC</td>\n",
       "      <td>Pair_A244VCNZM968SE-0176496920</td>\n",
       "    </tr>\n",
       "    <tr>\n",
       "      <th>29</th>\n",
       "      <td>0176496920</td>\n",
       "      <td>A2DE2X4ZHTLAEW</td>\n",
       "      <td>Benson Boy</td>\n",
       "      <td>1</td>\n",
       "      <td>2016-01-24 00:00:00</td>\n",
       "      <td>1453593600</td>\n",
       "      <td>just say no</td>\n",
       "      <td>2</td>\n",
       "      <td>don't worry it works, if you buy a subscriptio...</td>\n",
       "      <td>Turning Technologies Response Card (RCRF-03)</td>\n",
       "      <td>Turning Technologies, LLC</td>\n",
       "      <td>Pair_A2DE2X4ZHTLAEW-0176496920</td>\n",
       "    </tr>\n",
       "  </tbody>\n",
       "</table>\n",
       "</div>"
      ],
      "text/plain": [
       "   product_asin     reviewer_id    reviewer_name  review_score  \\\n",
       "10   0176496920  A3CQXY7BIMJEAK  Amazon Customer             1   \n",
       "12   0176496920  A10LKHY0O6OBLB      Joseph Doye             2   \n",
       "23   0176496920   ADFGHSXYA6CAI  Amazon Customer             3   \n",
       "27   0176496920  A244VCNZM968SE       Betty Rain             5   \n",
       "29   0176496920  A2DE2X4ZHTLAEW       Benson Boy             1   \n",
       "\n",
       "            review_time  review_time_unix  \\\n",
       "10  2017-01-22 00:00:00        1485043200   \n",
       "12  2017-01-10 00:00:00        1484006400   \n",
       "23  2016-09-06 00:00:00        1473120000   \n",
       "27  2016-03-06 00:00:00        1457222400   \n",
       "29  2016-01-24 00:00:00        1453593600   \n",
       "\n",
       "                                       review_summary review_upvote  \\\n",
       "10                  Product ok, business models s**ks             2   \n",
       "12  Make sure you don't need a license for the sof...             5   \n",
       "23      Works well, but stick with the app if you can             9   \n",
       "27                                           Reliable             3   \n",
       "29                                        just say no             2   \n",
       "\n",
       "                                          review_text  \\\n",
       "10  The product is ok. Works fine, with enough fun...   \n",
       "12  I bought one of these used for my course. Seem...   \n",
       "23  The device came fully charged, I would recomme...   \n",
       "27  This worked perfectly in every lecture that I ...   \n",
       "29  don't worry it works, if you buy a subscriptio...   \n",
       "\n",
       "                                   product_title              product_brand  \\\n",
       "10  Turning Technologies Response Card (RCRF-03)  Turning Technologies, LLC   \n",
       "12  Turning Technologies Response Card (RCRF-03)  Turning Technologies, LLC   \n",
       "23  Turning Technologies Response Card (RCRF-03)  Turning Technologies, LLC   \n",
       "27  Turning Technologies Response Card (RCRF-03)  Turning Technologies, LLC   \n",
       "29  Turning Technologies Response Card (RCRF-03)  Turning Technologies, LLC   \n",
       "\n",
       "                         Review_ID  \n",
       "10  Pair_A3CQXY7BIMJEAK-0176496920  \n",
       "12  Pair_A10LKHY0O6OBLB-0176496920  \n",
       "23   Pair_ADFGHSXYA6CAI-0176496920  \n",
       "27  Pair_A244VCNZM968SE-0176496920  \n",
       "29  Pair_A2DE2X4ZHTLAEW-0176496920  "
      ]
     },
     "execution_count": 10,
     "metadata": {},
     "output_type": "execute_result"
    }
   ],
   "source": [
    "# rimuove le eventuali righe duplicate\n",
    "dati = dati.drop_duplicates('Review_ID')\n",
    "print(dati.shape)\n",
    "dati.head()"
   ]
  },
  {
   "cell_type": "code",
   "execution_count": 11,
   "metadata": {},
   "outputs": [
    {
     "name": "stdout",
     "output_type": "stream",
     "text": [
      "done\n"
     ]
    }
   ],
   "source": [
    "# salvataggio in locale dei dati filtrati\n",
    "dati = dati.dropna()\n",
    "dati = dati.drop_duplicates()\n",
    "dati.to_csv(\"Dataset/Filtered_Reviews_With_Metadata.csv\", index=False)\n",
    "print(\"done\")"
   ]
  },
  {
   "cell_type": "code",
   "execution_count": 4,
   "metadata": {},
   "outputs": [
    {
     "name": "stdout",
     "output_type": "stream",
     "text": [
      "<class 'pandas.core.frame.DataFrame'>\n",
      "Index: 199299 entries, 0 to 199426\n",
      "Data columns (total 12 columns):\n",
      " #   Column            Non-Null Count   Dtype  \n",
      "---  ------            --------------   -----  \n",
      " 0   product_asin      199299 non-null  object \n",
      " 1   reviewer_id       199299 non-null  object \n",
      " 2   reviewer_name     199299 non-null  object \n",
      " 3   review_score      199299 non-null  int64  \n",
      " 4   review_time       199299 non-null  object \n",
      " 5   review_time_unix  199299 non-null  int64  \n",
      " 6   review_summary    199299 non-null  object \n",
      " 7   review_upvote     199299 non-null  float64\n",
      " 8   review_text       199299 non-null  object \n",
      " 9   product_title     199299 non-null  object \n",
      " 10  product_brand     199299 non-null  object \n",
      " 11  Review_ID         199299 non-null  object \n",
      "dtypes: float64(1), int64(2), object(9)\n",
      "memory usage: 19.8+ MB\n"
     ]
    }
   ],
   "source": [
    "dati = pd.read_csv(\"Dataset/Filtered_Reviews_With_Metadata.csv\")\n",
    "dati.info()"
   ]
  },
  {
   "cell_type": "code",
   "execution_count": 5,
   "metadata": {},
   "outputs": [
    {
     "name": "stdout",
     "output_type": "stream",
     "text": [
      "Empty DataFrame\n",
      "Columns: [Posizione_1, Posizione_2, Posizione_3, Posizione_4, Posizione_5]\n",
      "Index: []\n"
     ]
    }
   ],
   "source": [
    "# creazione dataframe hits con 0 righe e 5 colonne\n",
    "hits_df = pd.DataFrame(columns=[\"Posizione_1\",\"Posizione_2\",\"Posizione_3\",\"Posizione_4\",\"Posizione_5\"])\n",
    "print(hits_df)"
   ]
  },
  {
   "cell_type": "code",
   "execution_count": null,
   "metadata": {},
   "outputs": [],
   "source": [
    "# creare la tabella delle HIT con 15 righe e 5 colonne\n",
    "# 1 colonna estrarre a caso un array di 15 righe del DF dati\n",
    "# 2 colonna array shiftato a DX di 1\n",
    "# 3 colonna array shiftato a DX di 2\n",
    "# ..."
   ]
  },
  {
   "cell_type": "code",
   "execution_count": 6,
   "metadata": {},
   "outputs": [
    {
     "name": "stdout",
     "output_type": "stream",
     "text": [
      "['Pair_A1IXR1SDY2JEBT-B018J40IKU', 'Pair_A13PCJYZZSHTF1-B00RMX6EB2', 'Pair_A32FTLA25H2AM-B018FNDPVY', 'Pair_ARA6K18YQ4UZZ-B000FP83GS', 'Pair_A24FAUV92Z4NQ2-B0076O41IK', 'Pair_A21VR3CU76PEA7-B003BZQRV2', 'Pair_A16IOM7V3PNJ43-B0033SHDSS', 'Pair_AP4CTAPYQ0G38-B00IQCHQPQ', 'Pair_ARQT4BAVJQOF5-B000FPAN2K', 'Pair_A1BCTPXWBGVOM3-B01FYFJ1CS', 'Pair_AVJC3PLM2VHRI-B01D9JG0VQ', 'Pair_AR6PRH6B8N7LP-B006UKI83U', 'Pair_AJQYAX6Y56ZFW-B019XWENGM', 'Pair_A2ZHSXTQO831OS-B000Q9A4AQ', 'Pair_A87LMJTA3I6UU-B00336EUU4']\n"
     ]
    }
   ],
   "source": [
    "# estrazione casuale di 15 review_id dal dataframe filtrato\n",
    "random_rews = list(np.random.choice(dati['Review_ID'], size=15, replace=False))\n",
    "print(random_rews)"
   ]
  },
  {
   "cell_type": "code",
   "execution_count": 7,
   "metadata": {},
   "outputs": [
    {
     "data": {
      "text/html": [
       "<div>\n",
       "<style scoped>\n",
       "    .dataframe tbody tr th:only-of-type {\n",
       "        vertical-align: middle;\n",
       "    }\n",
       "\n",
       "    .dataframe tbody tr th {\n",
       "        vertical-align: top;\n",
       "    }\n",
       "\n",
       "    .dataframe thead th {\n",
       "        text-align: right;\n",
       "    }\n",
       "</style>\n",
       "<table border=\"1\" class=\"dataframe\">\n",
       "  <thead>\n",
       "    <tr style=\"text-align: right;\">\n",
       "      <th></th>\n",
       "      <th>Posizione_1</th>\n",
       "      <th>Posizione_2</th>\n",
       "      <th>Posizione_3</th>\n",
       "      <th>Posizione_4</th>\n",
       "      <th>Posizione_5</th>\n",
       "    </tr>\n",
       "  </thead>\n",
       "  <tbody>\n",
       "    <tr>\n",
       "      <th>0</th>\n",
       "      <td>Pair_A87LMJTA3I6UU-B00336EUU4</td>\n",
       "      <td>Pair_A2ZHSXTQO831OS-B000Q9A4AQ</td>\n",
       "      <td>Pair_AJQYAX6Y56ZFW-B019XWENGM</td>\n",
       "      <td>Pair_AR6PRH6B8N7LP-B006UKI83U</td>\n",
       "      <td>Pair_AVJC3PLM2VHRI-B01D9JG0VQ</td>\n",
       "    </tr>\n",
       "    <tr>\n",
       "      <th>1</th>\n",
       "      <td>Pair_A1IXR1SDY2JEBT-B018J40IKU</td>\n",
       "      <td>Pair_A87LMJTA3I6UU-B00336EUU4</td>\n",
       "      <td>Pair_A2ZHSXTQO831OS-B000Q9A4AQ</td>\n",
       "      <td>Pair_AJQYAX6Y56ZFW-B019XWENGM</td>\n",
       "      <td>Pair_AR6PRH6B8N7LP-B006UKI83U</td>\n",
       "    </tr>\n",
       "    <tr>\n",
       "      <th>2</th>\n",
       "      <td>Pair_A13PCJYZZSHTF1-B00RMX6EB2</td>\n",
       "      <td>Pair_A1IXR1SDY2JEBT-B018J40IKU</td>\n",
       "      <td>Pair_A87LMJTA3I6UU-B00336EUU4</td>\n",
       "      <td>Pair_A2ZHSXTQO831OS-B000Q9A4AQ</td>\n",
       "      <td>Pair_AJQYAX6Y56ZFW-B019XWENGM</td>\n",
       "    </tr>\n",
       "    <tr>\n",
       "      <th>3</th>\n",
       "      <td>Pair_A32FTLA25H2AM-B018FNDPVY</td>\n",
       "      <td>Pair_A13PCJYZZSHTF1-B00RMX6EB2</td>\n",
       "      <td>Pair_A1IXR1SDY2JEBT-B018J40IKU</td>\n",
       "      <td>Pair_A87LMJTA3I6UU-B00336EUU4</td>\n",
       "      <td>Pair_A2ZHSXTQO831OS-B000Q9A4AQ</td>\n",
       "    </tr>\n",
       "    <tr>\n",
       "      <th>4</th>\n",
       "      <td>Pair_ARA6K18YQ4UZZ-B000FP83GS</td>\n",
       "      <td>Pair_A32FTLA25H2AM-B018FNDPVY</td>\n",
       "      <td>Pair_A13PCJYZZSHTF1-B00RMX6EB2</td>\n",
       "      <td>Pair_A1IXR1SDY2JEBT-B018J40IKU</td>\n",
       "      <td>Pair_A87LMJTA3I6UU-B00336EUU4</td>\n",
       "    </tr>\n",
       "  </tbody>\n",
       "</table>\n",
       "</div>"
      ],
      "text/plain": [
       "                      Posizione_1                     Posizione_2  \\\n",
       "0   Pair_A87LMJTA3I6UU-B00336EUU4  Pair_A2ZHSXTQO831OS-B000Q9A4AQ   \n",
       "1  Pair_A1IXR1SDY2JEBT-B018J40IKU   Pair_A87LMJTA3I6UU-B00336EUU4   \n",
       "2  Pair_A13PCJYZZSHTF1-B00RMX6EB2  Pair_A1IXR1SDY2JEBT-B018J40IKU   \n",
       "3   Pair_A32FTLA25H2AM-B018FNDPVY  Pair_A13PCJYZZSHTF1-B00RMX6EB2   \n",
       "4   Pair_ARA6K18YQ4UZZ-B000FP83GS   Pair_A32FTLA25H2AM-B018FNDPVY   \n",
       "\n",
       "                      Posizione_3                     Posizione_4  \\\n",
       "0   Pair_AJQYAX6Y56ZFW-B019XWENGM   Pair_AR6PRH6B8N7LP-B006UKI83U   \n",
       "1  Pair_A2ZHSXTQO831OS-B000Q9A4AQ   Pair_AJQYAX6Y56ZFW-B019XWENGM   \n",
       "2   Pair_A87LMJTA3I6UU-B00336EUU4  Pair_A2ZHSXTQO831OS-B000Q9A4AQ   \n",
       "3  Pair_A1IXR1SDY2JEBT-B018J40IKU   Pair_A87LMJTA3I6UU-B00336EUU4   \n",
       "4  Pair_A13PCJYZZSHTF1-B00RMX6EB2  Pair_A1IXR1SDY2JEBT-B018J40IKU   \n",
       "\n",
       "                      Posizione_5  \n",
       "0   Pair_AVJC3PLM2VHRI-B01D9JG0VQ  \n",
       "1   Pair_AR6PRH6B8N7LP-B006UKI83U  \n",
       "2   Pair_AJQYAX6Y56ZFW-B019XWENGM  \n",
       "3  Pair_A2ZHSXTQO831OS-B000Q9A4AQ  \n",
       "4   Pair_A87LMJTA3I6UU-B00336EUU4  "
      ]
     },
     "execution_count": 7,
     "metadata": {},
     "output_type": "execute_result"
    }
   ],
   "source": [
    "# popolamento dataframe hits traslando di una posizone la colonna precedente per inserirla in qualla corrente\n",
    "for i in range(hits_df.shape[1]):\n",
    "    col_name = \"Posizione_\"+str(i+1)\n",
    "    random_rews = random_rews[-1:] + random_rews[:-1]\n",
    "    hits_df[col_name] = random_rews\n",
    "hits_df.head()"
   ]
  },
  {
   "cell_type": "code",
   "execution_count": 8,
   "metadata": {},
   "outputs": [
    {
     "name": "stdout",
     "output_type": "stream",
     "text": [
      "done\n"
     ]
    },
    {
     "data": {
      "text/plain": [
       "(15, 5)"
      ]
     },
     "execution_count": 8,
     "metadata": {},
     "output_type": "execute_result"
    }
   ],
   "source": [
    "# salvataggio in locale del dataframe generato\n",
    "hits_df.to_csv(\"Dataset/hits_df.csv\",index=False)\n",
    "print(\"done\")\n",
    "hits_df.shape"
   ]
  },
  {
   "cell_type": "code",
   "execution_count": 24,
   "metadata": {},
   "outputs": [
    {
     "name": "stdout",
     "output_type": "stream",
     "text": [
      "<class 'pandas.core.frame.DataFrame'>\n",
      "RangeIndex: 15 entries, 0 to 14\n",
      "Data columns (total 5 columns):\n",
      " #   Column       Non-Null Count  Dtype \n",
      "---  ------       --------------  ----- \n",
      " 0   Posizione_1  15 non-null     object\n",
      " 1   Posizione_2  15 non-null     object\n",
      " 2   Posizione_3  15 non-null     object\n",
      " 3   Posizione_4  15 non-null     object\n",
      " 4   Posizione_5  15 non-null     object\n",
      "dtypes: object(5)\n",
      "memory usage: 732.0+ bytes\n"
     ]
    }
   ],
   "source": [
    "hits_df = pd.read_csv(\"Dataset/hits_df.csv\")\n",
    "hits_df.info()"
   ]
  },
  {
   "cell_type": "code",
   "execution_count": null,
   "metadata": {},
   "outputs": [],
   "source": [
    "# ALLOCAZIONE FILE HITS.JSON\n",
    "# 1) \"unit_id\": UNIQUE\n",
    "# 2) \"token_input\" = \"fawndiaNoi\"\n",
    "# 3) \"token_output\" = \"kfandfnaw\"\n",
    "# 4) \"documents_number\" = 1\n",
    "# 5) \"documents\" = [{ \"id\": Review_ID, \"review_time\" , \"product_title\" , \"product_brand\" , \"text\": review_text}]"
   ]
  },
  {
   "cell_type": "code",
   "execution_count": 2,
   "metadata": {},
   "outputs": [
    {
     "name": "stdout",
     "output_type": "stream",
     "text": [
      "set()\n"
     ]
    }
   ],
   "source": [
    "import random\n",
    "import string\n",
    "input_token_arr = [\"\"]*15\n",
    "output_token_arr = [\"\"]*15\n",
    "lgt = 11  # lunghezza token\n",
    "def genera_token(lgt,arr):\n",
    "    for i in range (15):\n",
    "        repeat_flag = True;\n",
    "        while (repeat_flag):\n",
    "            curr_token = ''.join(random.choices(string.ascii_uppercase, k=lgt))\n",
    "            if (curr_token not in arr):\n",
    "                arr[i] = curr_token\n",
    "                repeat_flag = False;\n",
    "    return arr\n",
    "\n",
    "\n",
    "input_token_arr = genera_token(lgt,input_token_arr)\n",
    "output_token_arr = genera_token(lgt,output_token_arr)\n",
    "# verifica che non si siano elementi comuni tra i vari token_input e token_output \n",
    "print(set(input_token_arr).intersection(set(output_token_arr)) )"
   ]
  },
  {
   "cell_type": "code",
   "execution_count": null,
   "metadata": {},
   "outputs": [],
   "source": [
    "# creazione array di hits seguendo la struttura fisica \n",
    "# definita nella documentazione del repo del prof\n",
    "# e prendendo le review definite nel dataframe hits\n",
    "hits_array = []\n",
    "for i in range(hits_df.shape[0]): #cicla ogni riga di hits_df\n",
    "    curr_unit = \"unit_\"+str(i)\n",
    "    curr_token_input = input_token_arr[i]\n",
    "    curr_token_output = output_token_arr[i]\n",
    "    curr_hit_dict = {\n",
    "        \"unit_id\": \"unit_\"+str(i), \n",
    "        \"token_input\": curr_token_input, \n",
    "        \"token_output\": curr_token_output, \n",
    "        \"documents_number\": hits_df.shape[1],\n",
    "        \"documents\": []\n",
    "    }\n",
    "    documents_arr = []\n",
    "    # cicla per ogni colonna di hits_df alla riga i\n",
    "    for j in range( hits_df.shape[1]):\n",
    "        curr_pos = \"Posizione_\"+str(j+1)\n",
    "        curr_Rew_ID = hits_df[curr_pos][i]\n",
    "        curr_rew_idx = dati[dati['Review_ID']==curr_Rew_ID].index[0]\n",
    "        dati.loc[curr_rew_idx,'review_time']\n",
    "        documents_arr = documents_arr + [{\n",
    "            \"id\": curr_Rew_ID,\n",
    "            \"text\": dati.loc[curr_rew_idx,'review_text'],\n",
    "            \"product_title\" : dati.loc[curr_rew_idx,'product_title'],\n",
    "            \"product_brand\" : dati.loc[curr_rew_idx,'product_brand'],\n",
    "            \"time\" : dati.loc[curr_rew_idx,'review_time']\n",
    "        }]\n",
    "    curr_hit_dict['documents'] = documents_arr\n",
    "    hits_array = hits_array + [curr_hit_dict]\n",
    "# print(hits_array[0])"
   ]
  },
  {
   "cell_type": "code",
   "execution_count": 32,
   "metadata": {},
   "outputs": [
    {
     "name": "stdout",
     "output_type": "stream",
     "text": [
      "done\n"
     ]
    }
   ],
   "source": [
    "# salvataggio in locale del file hits.json\n",
    "import json\n",
    "# Convert the dictionary to a JSON string\n",
    "json_data = json.dumps(hits_array)\n",
    "\n",
    "# Open a file in write mode\n",
    "with open(\"task/hits.json\", \"w\") as file:\n",
    "    # Write the JSON string to the file\n",
    "    file.write(json_data)\n",
    "print(\"done\")"
   ]
  }
 ],
 "metadata": {
  "colab": {
   "provenance": []
  },
  "kernelspec": {
   "display_name": "Python 3 (ipykernel)",
   "language": "python",
   "name": "python3"
  },
  "language_info": {
   "codemirror_mode": {
    "name": "ipython",
    "version": 3
   },
   "file_extension": ".py",
   "mimetype": "text/x-python",
   "name": "python",
   "nbconvert_exporter": "python",
   "pygments_lexer": "ipython3",
   "version": "3.12.1"
  }
 },
 "nbformat": 4,
 "nbformat_minor": 4
}
